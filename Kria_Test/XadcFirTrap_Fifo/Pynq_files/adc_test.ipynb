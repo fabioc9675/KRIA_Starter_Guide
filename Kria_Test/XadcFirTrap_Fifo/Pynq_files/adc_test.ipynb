{
 "cells": [
  {
   "cell_type": "code",
   "execution_count": 1,
   "id": "ebc97c18",
   "metadata": {},
   "outputs": [
    {
     "data": {
      "application/javascript": [
       "\n",
       "try {\n",
       "require(['notebook/js/codecell'], function(codecell) {\n",
       "  codecell.CodeCell.options_default.highlight_modes[\n",
       "      'magic_text/x-csrc'] = {'reg':[/^%%microblaze/]};\n",
       "  Jupyter.notebook.events.one('kernel_ready.Kernel', function(){\n",
       "      Jupyter.notebook.get_cells().map(function(cell){\n",
       "          if (cell.cell_type == 'code'){ cell.auto_highlight(); } }) ;\n",
       "  });\n",
       "});\n",
       "} catch (e) {};\n"
      ]
     },
     "metadata": {},
     "output_type": "display_data"
    },
    {
     "data": {
      "application/javascript": [
       "\n",
       "try {\n",
       "require(['notebook/js/codecell'], function(codecell) {\n",
       "  codecell.CodeCell.options_default.highlight_modes[\n",
       "      'magic_text/x-csrc'] = {'reg':[/^%%pybind11/]};\n",
       "  Jupyter.notebook.events.one('kernel_ready.Kernel', function(){\n",
       "      Jupyter.notebook.get_cells().map(function(cell){\n",
       "          if (cell.cell_type == 'code'){ cell.auto_highlight(); } }) ;\n",
       "  });\n",
       "});\n",
       "} catch (e) {};\n"
      ]
     },
     "metadata": {},
     "output_type": "display_data"
    }
   ],
   "source": [
    "from pynq import Overlay\n",
    "\n",
    "overlay = Overlay('/home/xilinx/jupyter_notebooks/adc_comblock/adc_over.bit')"
   ]
  },
  {
   "cell_type": "code",
   "execution_count": 2,
   "id": "5376e626",
   "metadata": {},
   "outputs": [],
   "source": [
    "import matplotlib.pyplot as plt"
   ]
  },
  {
   "cell_type": "code",
   "execution_count": 3,
   "id": "6afebe78",
   "metadata": {},
   "outputs": [],
   "source": [
    "overlay.comblock_0?"
   ]
  },
  {
   "cell_type": "code",
   "execution_count": 4,
   "id": "31113556",
   "metadata": {},
   "outputs": [],
   "source": [
    "from pynq import DefaultIP\n",
    "\n",
    "class myComblock(DefaultIP):\n",
    "    def __init__(self, description):\n",
    "        super().__init__(description=description)\n",
    "        self.description = description\n",
    "        \n",
    "    bindto = ['www.ictp.it:user:comblock:2.0']"
   ]
  },
  {
   "cell_type": "code",
   "execution_count": 5,
   "id": "e6fd78c5",
   "metadata": {},
   "outputs": [],
   "source": [
    "overlay = Overlay('/home/xilinx/jupyter_notebooks/adc_comblock/adc_over.bit')\n",
    "overlay?"
   ]
  },
  {
   "cell_type": "code",
   "execution_count": 6,
   "id": "ec58e946",
   "metadata": {},
   "outputs": [],
   "source": [
    "from comblock import Comblock"
   ]
  },
  {
   "cell_type": "code",
   "execution_count": 7,
   "id": "6562b0e3",
   "metadata": {},
   "outputs": [
    {
     "name": "stdout",
     "output_type": "stream",
     "text": [
      "entro aca 1\n"
     ]
    }
   ],
   "source": [
    "myComblock = Comblock(overlay.comblock_0.description)"
   ]
  },
  {
   "cell_type": "code",
   "execution_count": 8,
   "id": "792e43ba",
   "metadata": {},
   "outputs": [],
   "source": [
    "myComblock?"
   ]
  },
  {
   "cell_type": "code",
   "execution_count": 8,
   "id": "7e4237a1",
   "metadata": {},
   "outputs": [
    {
     "name": "stdout",
     "output_type": "stream",
     "text": [
      "0\n",
      "0\n",
      "0\n",
      "0\n"
     ]
    }
   ],
   "source": [
    "print(myComblock.IN_REGS.readReg(0))\n",
    "print(myComblock.IN_REGS.readReg(1))\n",
    "print(myComblock.IN_REGS.readReg(2))\n",
    "print(myComblock.IN_REGS.readReg(3))"
   ]
  },
  {
   "cell_type": "code",
   "execution_count": 91,
   "id": "424f48d2",
   "metadata": {},
   "outputs": [],
   "source": [
    "myComblock.OUT_REGS.writeReg(0,9)\n",
    "myComblock.OUT_REGS.writeReg(1,10)\n",
    "myComblock.OUT_REGS.writeReg(2,4)"
   ]
  },
  {
   "cell_type": "code",
   "execution_count": 92,
   "id": "da8e1817",
   "metadata": {},
   "outputs": [
    {
     "name": "stdout",
     "output_type": "stream",
     "text": [
      "9\n",
      "10\n",
      "4\n",
      "1\n"
     ]
    }
   ],
   "source": [
    "print(myComblock.IN_REGS.readReg(0))\n",
    "print(myComblock.IN_REGS.readReg(1))\n",
    "print(myComblock.IN_REGS.readReg(2))\n",
    "print(myComblock.IN_REGS.readReg(3))"
   ]
  },
  {
   "cell_type": "code",
   "execution_count": 86,
   "id": "098945f5",
   "metadata": {},
   "outputs": [],
   "source": [
    "y = myComblock.FIFO_IN.readBulk(62535)"
   ]
  },
  {
   "cell_type": "code",
   "execution_count": 87,
   "id": "d41d1005",
   "metadata": {},
   "outputs": [
    {
     "data": {
      "text/plain": [
       "[<matplotlib.lines.Line2D at 0xa3781538>]"
      ]
     },
     "execution_count": 87,
     "metadata": {},
     "output_type": "execute_result"
    },
    {
     "data": {
      "image/png": "[encoded data removed]",
      "text/plain": [
       "<Figure size 432x288 with 1 Axes>"
      ]
     },
     "metadata": {
      "needs_background": "light"
     },
     "output_type": "display_data"
    }
   ],
   "source": [
    "plt.plot(y)"
   ]
  },
  {
   "cell_type": "code",
   "execution_count": 50,
   "id": "a4ea2763",
   "metadata": {},
   "outputs": [],
   "source": [
    "import pandas as pd\n",
    "import numpy as np"
   ]
  },
  {
   "cell_type": "code",
   "execution_count": 51,
   "id": "38e10420",
   "metadata": {},
   "outputs": [
    {
     "data": {
      "text/plain": [
       "list"
      ]
     },
     "execution_count": 51,
     "metadata": {},
     "output_type": "execute_result"
    }
   ],
   "source": [
    "type(y)"
   ]
  },
  {
   "cell_type": "code",
   "execution_count": 88,
   "id": "7c2d5099",
   "metadata": {},
   "outputs": [],
   "source": [
    "y_data = pd.DataFrame(np.array(y))\n",
    "y_data.to_csv('data_07.csv')  "
   ]
  },
  {
   "cell_type": "code",
   "execution_count": null,
   "id": "c2fef489",
   "metadata": {},
   "outputs": [],
   "source": []
  }
 ],
 "metadata": {
  "kernelspec": {
   "display_name": "Python 3 (ipykernel)",
   "language": "python",
   "name": "python3"
  },
  "language_info": {
   "codemirror_mode": {
    "name": "ipython",
    "version": 3
   },
   "file_extension": ".py",
   "mimetype": "text/x-python",
   "name": "python",
   "nbconvert_exporter": "python",
   "pygments_lexer": "ipython3",
   "version": "3.10.4"
  }
 },
 "nbformat": 4,
 "nbformat_minor": 5
}
