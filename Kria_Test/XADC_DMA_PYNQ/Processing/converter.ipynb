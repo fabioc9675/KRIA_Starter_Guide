{
 "cells": [
  {
   "cell_type": "code",
   "execution_count": 1,
   "metadata": {},
   "outputs": [
    {
     "name": "stdout",
     "output_type": "stream",
     "text": [
      "tap(0) <= X\"0000\";\n",
      "tap(1) <= X\"0000\";\n",
      "tap(2) <= X\"0001\";\n",
      "tap(3) <= X\"0003\";\n",
      "tap(4) <= X\"0007\";\n",
      "tap(5) <= X\"000C\";\n",
      "tap(6) <= X\"0012\";\n",
      "tap(7) <= X\"001A\";\n",
      "tap(8) <= X\"0021\";\n",
      "tap(9) <= X\"0029\";\n",
      "tap(10) <= X\"0031\";\n",
      "tap(11) <= X\"0038\";\n",
      "tap(12) <= X\"003E\";\n",
      "tap(13) <= X\"0043\";\n",
      "tap(14) <= X\"0046\";\n",
      "tap(15) <= X\"0048\";\n",
      "tap(16) <= X\"0048\";\n",
      "tap(17) <= X\"0046\";\n",
      "tap(18) <= X\"0043\";\n",
      "tap(19) <= X\"003E\";\n",
      "tap(20) <= X\"0038\";\n",
      "tap(21) <= X\"0031\";\n",
      "tap(22) <= X\"0029\";\n",
      "tap(23) <= X\"0021\";\n",
      "tap(24) <= X\"001A\";\n",
      "tap(25) <= X\"0012\";\n",
      "tap(26) <= X\"000C\";\n",
      "tap(27) <= X\"0007\";\n",
      "tap(28) <= X\"0003\";\n",
      "tap(29) <= X\"0001\";\n",
      "tap(30) <= X\"0000\";\n"
     ]
    }
   ],
   "source": [
    "import csv\n",
    "\n",
    "# Lee los datos desde el archivo CSV\n",
    "with open('coefs.csv', 'r') as file:\n",
    "    reader = csv.reader(file)\n",
    "    data = [int(row[0]) for row in reader]\n",
    "\n",
    "# Convierte los valores a hexadecimal de 4 caracteres\n",
    "hex_data = [format(value, '04X') for value in data]\n",
    "\n",
    "# Genera la estructura deseada\n",
    "template = \"tap({}) <= X\\\"{}\\\";\"\n",
    "\n",
    "for i, value in enumerate(hex_data):\n",
    "    print(template.format(i, value))"
   ]
  }
 ],
 "metadata": {
  "kernelspec": {
   "display_name": "Python 3",
   "language": "python",
   "name": "python3"
  },
  "language_info": {
   "codemirror_mode": {
    "name": "ipython",
    "version": 3
   },
   "file_extension": ".py",
   "mimetype": "text/x-python",
   "name": "python",
   "nbconvert_exporter": "python",
   "pygments_lexer": "ipython3",
   "version": "3.10.9"
  }
 },
 "nbformat": 4,
 "nbformat_minor": 2
}
