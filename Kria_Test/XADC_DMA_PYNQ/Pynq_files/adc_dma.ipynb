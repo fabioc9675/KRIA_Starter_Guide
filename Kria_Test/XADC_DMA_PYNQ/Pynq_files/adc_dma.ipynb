{
 "cells": [
  {
   "cell_type": "markdown",
   "id": "11c1c1c0",
   "metadata": {},
   "source": [
    "### Informacion de la libreria\n",
    "\n",
    "https://pynq.readthedocs.io/en/v2.5/_modules/pynq/lib/dma.html"
   ]
  },
  {
   "cell_type": "code",
   "execution_count": 1,
   "id": "ad897693",
   "metadata": {},
   "outputs": [],
   "source": [
    "from pynq import pl\n",
    "\n",
    "import numpy as np\n",
    "from pynq import allocate\n",
    "from pynq import Overlay\n",
    "import matplotlib.pyplot as plt\n"
   ]
  },
  {
   "cell_type": "code",
   "execution_count": 6,
   "id": "a364a039",
   "metadata": {},
   "outputs": [],
   "source": [
    "overlay = Overlay('/home/xilinx/jupyter_notebooks/adc_dma/xadc_dma.bit')"
   ]
  },
  {
   "cell_type": "code",
   "execution_count": 7,
   "id": "d17ad62d",
   "metadata": {},
   "outputs": [],
   "source": [
    "# overlay.ip_dict"
   ]
  },
  {
   "cell_type": "code",
   "execution_count": 8,
   "id": "a4e36ef0",
   "metadata": {},
   "outputs": [],
   "source": [
    "dma = overlay.axi_dma\n",
    "dma_recv = dma.recvchannel"
   ]
  },
  {
   "cell_type": "code",
   "execution_count": 9,
   "id": "88d88bad",
   "metadata": {},
   "outputs": [
    {
     "name": "stdout",
     "output_type": "stream",
     "text": [
      "recvstatus =  True\n",
      "idlestatus =  False\n"
     ]
    },
    {
     "name": "stderr",
     "output_type": "stream",
     "text": [
      "/tmp/ipykernel_815/2464705801.py:17: RuntimeWarning: coroutine '_SDMAChannel.wait_async' was never awaited\n",
      "  dma_recv.wait_async()\n",
      "RuntimeWarning: Enable tracemalloc to get the object allocation traceback\n"
     ]
    },
    {
     "data": {
      "text/plain": [
       "[<matplotlib.lines.Line2D at 0xaba006a0>]"
      ]
     },
     "execution_count": 9,
     "metadata": {},
     "output_type": "execute_result"
    },
    {
     "data": {
      "image/png": "[encoded data removed]",
      "text/plain": [
       "<Figure size 432x288 with 1 Axes>"
      ]
     },
     "metadata": {
      "needs_background": "light"
     },
     "output_type": "display_data"
    }
   ],
   "source": [
    "input_buffer = allocate(shape=(1000000,), dtype=np.uint16)\n",
    "\n",
    "dma_recv._mmio.write(0x34, 0x01)\n",
    "#startStatus = dma.recvchannel.start()\n",
    "recvstatus = dma_recv.running\n",
    "idlestatus = dma_recv.idle\n",
    "#print(\"startStatus = \", startStatus)\n",
    "print(\"recvstatus = \", recvstatus)\n",
    "print(\"idlestatus = \", idlestatus)\n",
    "\n",
    "\n",
    "dma.buffer_max_size\n",
    "\n",
    "dma_recv.transfer(input_buffer)\n",
    "recvstatus = dma_recv.running\n",
    "idlestatus = dma_recv.idle\n",
    "dma_recv.wait_async()\n",
    "#dma.recvchannel.wait()\n",
    "\n",
    "plt.plot(input_buffer)\n",
    "\n",
    "#startStatus = dma.recvchannel.stop()\n",
    "#print(\"startStatus = \", startStatus)\n",
    "\n",
    "# input_buffer.close()\n",
    "         \n",
    "         "
   ]
  },
  {
   "cell_type": "code",
   "execution_count": 13,
   "id": "128e1f34",
   "metadata": {},
   "outputs": [
    {
     "name": "stdout",
     "output_type": "stream",
     "text": [
      "recvstatus =  True\n",
      "idlestatus =  False\n"
     ]
    },
    {
     "name": "stderr",
     "output_type": "stream",
     "text": [
      "/tmp/ipykernel_815/664128955.py:22: RuntimeWarning: coroutine '_SDMAChannel.wait_async' was never awaited\n",
      "  dma_recv.wait_async()\n",
      "RuntimeWarning: Enable tracemalloc to get the object allocation traceback\n"
     ]
    },
    {
     "data": {
      "text/plain": [
       "[<matplotlib.lines.Line2D at 0xaa241dd8>]"
      ]
     },
     "execution_count": 13,
     "metadata": {},
     "output_type": "execute_result"
    },
    {
     "data": {
      "image/png": "[encoded data removed]",
      "text/plain": [
       "<Figure size 432x288 with 1 Axes>"
      ]
     },
     "metadata": {
      "needs_background": "light"
     },
     "output_type": "display_data"
    }
   ],
   "source": [
    "overlay = Overlay('/home/xilinx/jupyter_notebooks/adc_dma/xadc_dma.bit')\n",
    "\n",
    "dma = overlay.axi_dma\n",
    "dma_recv = dma.recvchannel\n",
    "\n",
    "input_buffer = allocate(shape=(1000000,), dtype=np.uint16)\n",
    "\n",
    "dma_recv._mmio.write(0x34, 0x01)\n",
    "#startStatus = dma.recvchannel.start()\n",
    "recvstatus = dma_recv.running\n",
    "idlestatus = dma_recv.idle\n",
    "#print(\"startStatus = \", startStatus)\n",
    "print(\"recvstatus = \", recvstatus)\n",
    "print(\"idlestatus = \", idlestatus)\n",
    "\n",
    "\n",
    "dma.buffer_max_size\n",
    "\n",
    "dma_recv.transfer(input_buffer)\n",
    "recvstatus = dma_recv.running\n",
    "idlestatus = dma_recv.idle\n",
    "dma_recv.wait_async()\n",
    "#dma.recvchannel.wait()\n",
    "\n",
    "plt.plot(input_buffer)\n",
    "\n",
    "#startStatus = dma.recvchannel.stop()\n",
    "#print(\"startStatus = \", startStatus)\n",
    "\n",
    "# input_buffer.close()\n",
    "         \n",
    "         "
   ]
  },
  {
   "cell_type": "code",
   "execution_count": null,
   "id": "083e92ea",
   "metadata": {},
   "outputs": [],
   "source": []
  }
 ],
 "metadata": {
  "kernelspec": {
   "display_name": "Python 3 (ipykernel)",
   "language": "python",
   "name": "python3"
  },
  "language_info": {
   "codemirror_mode": {
    "name": "ipython",
    "version": 3
   },
   "file_extension": ".py",
   "mimetype": "text/x-python",
   "name": "python",
   "nbconvert_exporter": "python",
   "pygments_lexer": "ipython3",
   "version": "3.10.4"
  }
 },
 "nbformat": 4,
 "nbformat_minor": 5
}
