{
 "cells": [
  {
   "cell_type": "markdown",
   "id": "11c1c1c0",
   "metadata": {},
   "source": [
    "### Informacion de la libreria\n",
    "\n",
    "https://pynq.readthedocs.io/en/v2.5/_modules/pynq/lib/dma.html"
   ]
  },
  {
   "cell_type": "code",
   "execution_count": 1,
   "id": "ad897693",
   "metadata": {},
   "outputs": [],
   "source": [
    "from pynq import pl\n",
    "\n",
    "import numpy as np\n",
    "import pandas as pd\n",
    "from pynq import allocate\n",
    "from pynq import Overlay\n",
    "import matplotlib.pyplot as plt\n"
   ]
  },
  {
   "cell_type": "code",
   "execution_count": 9,
   "id": "a364a039",
   "metadata": {},
   "outputs": [],
   "source": [
    "overlay = Overlay('/home/xilinx/jupyter_notebooks/adc_dma/adc_dma.bit')"
   ]
  },
  {
   "cell_type": "code",
   "execution_count": 10,
   "id": "d17ad62d",
   "metadata": {},
   "outputs": [],
   "source": [
    "# overlay.ip_dict"
   ]
  },
  {
   "cell_type": "code",
   "execution_count": 11,
   "id": "a4e36ef0",
   "metadata": {},
   "outputs": [],
   "source": [
    "dma = overlay.axi_dma\n",
    "dma_recv = dma.recvchannel"
   ]
  },
  {
   "cell_type": "code",
   "execution_count": 12,
   "id": "af46992c",
   "metadata": {},
   "outputs": [],
   "source": [
    "input_buffer = allocate(shape=(256,), dtype=np.uint16)"
   ]
  },
  {
   "cell_type": "code",
   "execution_count": 17,
   "id": "88d88bad",
   "metadata": {},
   "outputs": [
    {
     "name": "stderr",
     "output_type": "stream",
     "text": [
      "/tmp/ipykernel_887/3703012207.py:18: RuntimeWarning: coroutine '_SDMAChannel.wait_async' was never awaited\n",
      "  dma_recv.wait_async()\n",
      "RuntimeWarning: Enable tracemalloc to get the object allocation traceback\n"
     ]
    },
    {
     "data": {
      "text/plain": [
       "[<matplotlib.lines.Line2D at 0xa9396f88>]"
      ]
     },
     "execution_count": 17,
     "metadata": {},
     "output_type": "execute_result"
    },
    {
     "data": {
      "image/png": "[encoded data removed]",
      "text/plain": [
       "<Figure size 432x288 with 1 Axes>"
      ]
     },
     "metadata": {
      "needs_background": "light"
     },
     "output_type": "display_data"
    }
   ],
   "source": [
    "y = np.array([0])\n",
    "#dma_recv._mmio.write(0x34, 0x01)\n",
    "#startStatus = dma.recvchannel.start()\n",
    "recvstatus = dma_recv.running\n",
    "idlestatus = dma_recv.idle\n",
    "#print(\"startStatus = \", startStatus)\n",
    "#print(\"recvstatus = \", recvstatus)\n",
    "#print(\"idlestatus = \", idlestatus)\n",
    "\n",
    "\n",
    "dma.buffer_max_size\n",
    "\n",
    "for i in range(0,2500):\n",
    "\n",
    "    dma_recv.transfer(input_buffer)\n",
    "    #recvstatus = dma_recv.running\n",
    "    #idlestatus = dma_recv.idle\n",
    "    dma_recv.wait_async()\n",
    "    \n",
    "    y = np.append(y,input_buffer)\n",
    "    #dma.recvchannel.wait()\n",
    "\n",
    "plt.plot(y)\n",
    "\n",
    "#print(y)\n",
    "\n",
    "#startStatus = dma.recvchannel.stop()\n",
    "#print(\"startStatus = \", startStatus)\n",
    "\n",
    "# input_buffer.close()\n",
    "         \n",
    "         "
   ]
  },
  {
   "cell_type": "code",
   "execution_count": null,
   "id": "32c5861f",
   "metadata": {},
   "outputs": [],
   "source": [
    "y_data = pd.DataFrame(np.array(y))\n",
    "y_data.to_csv(\"Datos03.csv\")"
   ]
  }
 ],
 "metadata": {
  "kernelspec": {
   "display_name": "Python 3 (ipykernel)",
   "language": "python",
   "name": "python3"
  },
  "language_info": {
   "codemirror_mode": {
    "name": "ipython",
    "version": 3
   },
   "file_extension": ".py",
   "mimetype": "text/x-python",
   "name": "python",
   "nbconvert_exporter": "python",
   "pygments_lexer": "ipython3",
   "version": "3.10.4"
  }
 },
 "nbformat": 4,
 "nbformat_minor": 5
}
