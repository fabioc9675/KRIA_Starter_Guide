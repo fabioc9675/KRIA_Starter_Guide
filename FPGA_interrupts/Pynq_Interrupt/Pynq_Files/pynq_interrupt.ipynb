{
 "cells": [
  {
   "cell_type": "code",
   "execution_count": 1,
   "id": "b87ba8ba",
   "metadata": {},
   "outputs": [],
   "source": [
    "from pynq import PL\n",
    "from pynq import Overlay"
   ]
  },
  {
   "cell_type": "code",
   "execution_count": 2,
   "id": "b6e23391",
   "metadata": {},
   "outputs": [
    {
     "data": {
      "application/javascript": [
       "\n",
       "try {\n",
       "require(['notebook/js/codecell'], function(codecell) {\n",
       "  codecell.CodeCell.options_default.highlight_modes[\n",
       "      'magic_text/x-csrc'] = {'reg':[/^%%microblaze/]};\n",
       "  Jupyter.notebook.events.one('kernel_ready.Kernel', function(){\n",
       "      Jupyter.notebook.get_cells().map(function(cell){\n",
       "          if (cell.cell_type == 'code'){ cell.auto_highlight(); } }) ;\n",
       "  });\n",
       "});\n",
       "} catch (e) {};\n"
      ]
     },
     "metadata": {},
     "output_type": "display_data"
    },
    {
     "data": {
      "application/javascript": [
       "\n",
       "try {\n",
       "require(['notebook/js/codecell'], function(codecell) {\n",
       "  codecell.CodeCell.options_default.highlight_modes[\n",
       "      'magic_text/x-csrc'] = {'reg':[/^%%pybind11/]};\n",
       "  Jupyter.notebook.events.one('kernel_ready.Kernel', function(){\n",
       "      Jupyter.notebook.get_cells().map(function(cell){\n",
       "          if (cell.cell_type == 'code'){ cell.auto_highlight(); } }) ;\n",
       "  });\n",
       "});\n",
       "} catch (e) {};\n"
      ]
     },
     "metadata": {},
     "output_type": "display_data"
    }
   ],
   "source": [
    "PL.reset()\n",
    "overlay = Overlay('pynq_int.bit')"
   ]
  },
  {
   "cell_type": "code",
   "execution_count": 3,
   "id": "e96a6801",
   "metadata": {},
   "outputs": [
    {
     "data": {
      "text/plain": [
       "{'interrupt': {'controller': 'axi_intc_0',\n",
       "  'index': 1,\n",
       "  'fullpath': 'timer_1/interrupt'}}"
      ]
     },
     "execution_count": 3,
     "metadata": {},
     "output_type": "execute_result"
    }
   ],
   "source": [
    "timer1 = overlay.timer_1\n",
    "timer1._interrupts"
   ]
  },
  {
   "cell_type": "code",
   "execution_count": 4,
   "id": "0405ff75",
   "metadata": {},
   "outputs": [
    {
     "data": {
      "text/plain": [
       "{'interrupt': {'controller': 'axi_intc_0',\n",
       "  'index': 0,\n",
       "  'fullpath': 'timer_0/interrupt'}}"
      ]
     },
     "execution_count": 4,
     "metadata": {},
     "output_type": "execute_result"
    }
   ],
   "source": [
    "timer0 = overlay.timer_0\n",
    "timer0._interrupts"
   ]
  },
  {
   "cell_type": "code",
   "execution_count": 5,
   "id": "94f053c8",
   "metadata": {},
   "outputs": [
    {
     "data": {
      "text/plain": [
       "{'ip2intc_irpt': {'controller': 'axi_intc_0',\n",
       "  'index': 2,\n",
       "  'fullpath': 'gpio_0/ip2intc_irpt'}}"
      ]
     },
     "execution_count": 5,
     "metadata": {},
     "output_type": "execute_result"
    }
   ],
   "source": [
    "gpio0 = overlay.gpio_0\n",
    "gpio0._interrupts"
   ]
  },
  {
   "cell_type": "code",
   "execution_count": 6,
   "id": "90fb5bda",
   "metadata": {},
   "outputs": [],
   "source": [
    "int_tim0 = timer0.interrupt\n",
    "int_tim1 = timer1.interrupt"
   ]
  },
  {
   "cell_type": "code",
   "execution_count": 7,
   "id": "ba271038",
   "metadata": {},
   "outputs": [
    {
     "data": {
      "text/plain": [
       "RegisterMap {\n",
       "  TCSR0 = Register(MDT0=0, UDT0=0, GENT0=0, CAPT0=0, ARHT0=0, LOAD0=0, ENIT0=0, ENT0=0, T0INT=0, PWMA0=0, ENALL=0, CASC=0),\n",
       "  TLR0 = Register(TCLR0=0),\n",
       "  TCR0 = Register(TCR0=0),\n",
       "  TCSR1 = Register(MDT1=0, UDT1=0, GENT1=0, CAPT1=0, ARHT1=0, LOAD1=0, ENIT1=0, ENT1=0, T1INT=0, PWMA1=0, ENALL=0),\n",
       "  TLR1 = Register(TCLR1=0),\n",
       "  TCR1 = Register(TCR1=0)\n",
       "}"
      ]
     },
     "execution_count": 7,
     "metadata": {},
     "output_type": "execute_result"
    }
   ],
   "source": [
    "timer0.register_map"
   ]
  },
  {
   "cell_type": "code",
   "execution_count": 8,
   "id": "faa094bf",
   "metadata": {},
   "outputs": [
    {
     "data": {
      "text/plain": [
       "RegisterMap {\n",
       "  GPIO_DATA = Register(Channel_1_GPIO_DATA=0),\n",
       "  GPIO_TRI = Register(Channel_1_GPIO_TRI=1),\n",
       "  GPIO2_DATA = Register(Channel_2_GPIO_DATA=0),\n",
       "  GPIO2_TRI = Register(Channel_2_GPIO_TRI=4294967295),\n",
       "  GIER = Register(Global_Interrupt_Enable=1),\n",
       "  IP_ISR = Register(Channel_1_Interrupt_Status=0, Channel_2_Interrupt_Status=0),\n",
       "  IP_IER = Register(Channel_1_Interrupt_Enable=1, Channel_2_Interrupt_Enable=0)\n",
       "}"
      ]
     },
     "execution_count": 8,
     "metadata": {},
     "output_type": "execute_result"
    }
   ],
   "source": [
    "gpio0.register_map.IP_ISR.Channel_2_Interrupt_Status = 1\n",
    "gpio0.register_map.IP_IER.Channel_1_Interrupt_Enable = 1\n",
    "gpio0.register_map.GIER.Global_Interrupt_Enable = 1\n",
    "gpio0.register_map.GPIO2_TRI.Channel_2_GPIO_TRI = 1\n",
    "\n",
    "gpio0.register_map\n"
   ]
  },
  {
   "cell_type": "code",
   "execution_count": 9,
   "id": "a215f974",
   "metadata": {},
   "outputs": [
    {
     "name": "stdout",
     "output_type": "stream",
     "text": [
      "True\n"
     ]
    }
   ],
   "source": [
    "gpio0.channel1.setdirection('in')  # Establecer el canal 1 como entrada\n",
    "print(gpio0.has_interrupts)  # Verificar si hay interrupciones configuradas"
   ]
  },
  {
   "cell_type": "code",
   "execution_count": 10,
   "id": "478e259d",
   "metadata": {},
   "outputs": [
    {
     "name": "stdout",
     "output_type": "stream",
     "text": [
      "0\n"
     ]
    }
   ],
   "source": [
    "# Leer el estado de la interrupción para Channel 1\n",
    "print(gpio0.register_map.IP_ISR.Channel_1_Interrupt_Status)\n",
    "\n",
    "# Escribir 1 para habilitar la interrupción de Channel 1\n",
    "gpio0.register_map.IP_IER.Channel_1_Interrupt_Enable = 1\n",
    "\n",
    "# Escribir 0 para limpiar la interrupción de Channel 1\n",
    "gpio0.register_map.IP_ISR.Channel_1_Interrupt_Status = 0"
   ]
  },
  {
   "cell_type": "code",
   "execution_count": 11,
   "id": "c4bb9c4e",
   "metadata": {},
   "outputs": [
    {
     "name": "stdout",
     "output_type": "stream",
     "text": [
      "['Channel', 'InOut', 'Input', 'Output', '__class__', '__delattr__', '__dict__', '__dir__', '__doc__', '__eq__', '__format__', '__ge__', '__getattribute__', '__getitem__', '__gt__', '__hash__', '__init__', '__init_subclass__', '__le__', '__lt__', '__module__', '__ne__', '__new__', '__reduce__', '__reduce_ex__', '__repr__', '__setattr__', '__sizeof__', '__str__', '__subclasshook__', '__weakref__', '_call', '_channels', '_fullpath', '_gpio', '_interrupts', '_register_map', '_register_name', '_registers', '_setup_packet_prototype', '_start_ert', '_start_sw', 'bindto', 'channel1', 'channel2', 'device', 'has_interrupts', 'ip2intc_irpt', 'mmio', 'read', 'register_map', 'setdirection', 'setlength', 'signature', 'write']\n"
     ]
    }
   ],
   "source": [
    "print(dir(gpio0))"
   ]
  },
  {
   "cell_type": "code",
   "execution_count": 12,
   "id": "01160586",
   "metadata": {},
   "outputs": [
    {
     "name": "stdout",
     "output_type": "stream",
     "text": [
      "¡Interrupción ocurrida en Channel 1!\n"
     ]
    }
   ],
   "source": [
    "import asyncio\n",
    "\n",
    "async def wait_for_gpio0():\n",
    "    # Limpiar el estado de la interrupción\n",
    "    gpio0.register_map.IP_ISR.Channel_1_Interrupt_Status = 0\n",
    "    gpio0.register_map.IP_IER.Channel_1_Interrupt_Enable = 1\n",
    "    gpio0.register_map.GIER.Global_Interrupt_Enable = 1\n",
    "\n",
    "    # Bucle para esperar a que la interrupción ocurra\n",
    "    while True:\n",
    "        # Comprobar si la interrupción ha ocurrido (Estado de la interrupción en 1)\n",
    "        if gpio0.register_map.IP_ISR.Channel_1_Interrupt_Status == 1:\n",
    "            print(\"¡Interrupción ocurrida en Channel 1!\")\n",
    "            \n",
    "            # Limpiar el estado de la interrupción (esto debería resetear el bit de la interrupción)\n",
    "            gpio0.register_map.IP_ISR.Channel_1_Interrupt_Status = 1\n",
    "\n",
    "            # Deshabilitar la interrupción temporalmente para evitar re-activaciones inesperadas\n",
    "            gpio0.register_map.IP_IER.Channel_1_Interrupt_Enable = 0\n",
    "\n",
    "            # Habilitar la interrupción nuevamente después de limpiarla\n",
    "            gpio0.register_map.IP_IER.Channel_1_Interrupt_Enable = 1\n",
    "\n",
    "            # Asegurar que la interrupción global sigue habilitada\n",
    "            gpio0.register_map.GIER.Global_Interrupt_Enable = 1\n",
    "            \n",
    "            break\n",
    "        \n",
    "        # Esperar un poco antes de verificar nuevamente\n",
    "        await asyncio.sleep(0.1)\n",
    "\n",
    "# Crear y ejecutar el evento asincrónico\n",
    "loop = asyncio.get_event_loop()\n",
    "task = loop.create_task(wait_for_gpio0())\n",
    "loop.run_until_complete(task)\n",
    "    "
   ]
  },
  {
   "cell_type": "code",
   "execution_count": 13,
   "id": "9ef8a495",
   "metadata": {},
   "outputs": [
    {
     "name": "stdout",
     "output_type": "stream",
     "text": [
      "['__class__', '__delattr__', '__dict__', '__dir__', '__doc__', '__eq__', '__format__', '__ge__', '__getattribute__', '__gt__', '__hash__', '__init__', '__init_subclass__', '__le__', '__lt__', '__module__', '__ne__', '__new__', '__reduce__', '__reduce_ex__', '__repr__', '__setattr__', '__sizeof__', '__str__', '__subclasshook__', '__weakref__', '_call', '_fullpath', '_gpio', '_interrupts', '_register_map', '_register_name', '_registers', '_setup_packet_prototype', '_start_ert', '_start_sw', 'device', 'interrupt', 'mmio', 'read', 'register_map', 'signature', 'write']\n"
     ]
    }
   ],
   "source": [
    "print(dir(timer0))"
   ]
  },
  {
   "cell_type": "code",
   "execution_count": 14,
   "id": "2748bb67",
   "metadata": {},
   "outputs": [],
   "source": [
    "async def wait_for_timer1(cycles):\n",
    "    timer1.register_map.TLR0 = cycles\n",
    "    timer1.register_map.TCSR0.LOAD0 = 1\n",
    "    timer1.register_map.TCSR0.LOAD0 = 0\n",
    "    timer1.register_map.TCSR0.ENIT0 = 1\n",
    "    timer1.register_map.TCSR0.ENT0 = 1\n",
    "    timer1.register_map.TCSR0.UDT0 = 1\n",
    "    await timer1.interrupt.wait()\n",
    "    timer1.register_map.TCSR0.T0INT = 1"
   ]
  },
  {
   "cell_type": "code",
   "execution_count": 15,
   "id": "ab8ecbf8",
   "metadata": {},
   "outputs": [],
   "source": [
    "import asyncio\n",
    "loop = asyncio.get_event_loop()"
   ]
  },
  {
   "cell_type": "code",
   "execution_count": 16,
   "id": "af9534e9",
   "metadata": {},
   "outputs": [],
   "source": [
    "task = loop.create_task(wait_for_timer1(500000000))\n",
    "loop.run_until_complete(task)"
   ]
  }
 ],
 "metadata": {
  "kernelspec": {
   "display_name": "Python 3 (ipykernel)",
   "language": "python",
   "name": "python3"
  },
  "language_info": {
   "codemirror_mode": {
    "name": "ipython",
    "version": 3
   },
   "file_extension": ".py",
   "mimetype": "text/x-python",
   "name": "python",
   "nbconvert_exporter": "python",
   "pygments_lexer": "ipython3",
   "version": "3.10.4"
  }
 },
 "nbformat": 4,
 "nbformat_minor": 5
}
